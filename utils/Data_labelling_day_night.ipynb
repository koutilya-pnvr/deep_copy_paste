{
 "cells": [
  {
   "cell_type": "code",
   "execution_count": 31,
   "metadata": {},
   "outputs": [],
   "source": [
    "import pandas as pd\n",
    "import numpy as np\n",
    "import os\n",
    "from scipy.misc import imread"
   ]
  },
  {
   "cell_type": "code",
   "execution_count": 32,
   "metadata": {},
   "outputs": [],
   "source": [
    "data_dir='/scratch0/datasets/NYC3dcars/'\n",
    "root_dir='/scratch0/datasets/NYC3dcars/times-square-images/'\n",
    "photos=pd.read_pickle(os.path.join(data_dir,'nyc3dcars-csv/preprocessed_photos'))\n",
    "vehicles=pd.read_csv(os.path.join(data_dir,'nyc3dcars-csv/vehicles.csv'))\n",
    "vehicles.drop(vehicles.columns[[13,14]], axis=1, inplace=True)"
   ]
  },
  {
   "cell_type": "code",
   "execution_count": 33,
   "metadata": {},
   "outputs": [],
   "source": [
    "photos1=photos[['id', 'filename','width', 'height','roll','sees_ground', 'camera_height','test', 'dataset_id','daytime']]\n",
    "photos1 = photos1.rename(columns={'id': 'pid'})\n",
    "right_result=pd.merge(photos1, vehicles, how='inner', on='pid',\n",
    "     left_index=False, right_index=False, sort=True,\n",
    "     suffixes=('_x', '_y'), copy=True, indicator=False,\n",
    "     validate=None)"
   ]
  },
  {
   "cell_type": "code",
   "execution_count": 34,
   "metadata": {},
   "outputs": [
    {
     "data": {
      "text/plain": [
       "{'f', 't'}"
      ]
     },
     "execution_count": 34,
     "metadata": {},
     "output_type": "execute_result"
    }
   ],
   "source": [
    "set(list(right_result.loc[:,'daytime']))"
   ]
  },
  {
   "cell_type": "code",
   "execution_count": 16,
   "metadata": {
    "scrolled": true
   },
   "outputs": [],
   "source": [
    "pids=list(set(right_result['pid'].tolist()))"
   ]
  },
  {
   "cell_type": "code",
   "execution_count": 19,
   "metadata": {},
   "outputs": [
    {
     "name": "stdout",
     "output_type": "stream",
     "text": [
      "images/1010743959_40eb8ce130_o.jpg\n"
     ]
    }
   ],
   "source": [
    "i=10\n",
    "for pid in pids:\n",
    "    if(i==1):\n",
    "        break\n",
    "    filename=right_result.loc[right_result['pid']==pid,'filename'][0]\n",
    "    image=imread(filename)\n",
    "    fig=plt.figure()\n",
    "    fig.imshow(image)\n",
    "    inp=input(\"Is it Day time?:\")\n",
    "    condition=bool(int(inp))\n",
    "    if(condition):\n",
    "        print('Labelled as Day time')\n",
    "        \n",
    "    else:\n",
    "        print('Labelled as Night time')\n",
    "    display.clear_output(wait=True)\n",
    "    display.display(pl.gcf())\n",
    "    time.sleep(1.0)\n",
    "    i+=1"
   ]
  },
  {
   "cell_type": "code",
   "execution_count": null,
   "metadata": {},
   "outputs": [],
   "source": []
  }
 ],
 "metadata": {
  "kernelspec": {
   "display_name": "Python 2",
   "language": "python",
   "name": "python2"
  },
  "language_info": {
   "codemirror_mode": {
    "name": "ipython",
    "version": 2
   },
   "file_extension": ".py",
   "mimetype": "text/x-python",
   "name": "python",
   "nbconvert_exporter": "python",
   "pygments_lexer": "ipython2",
   "version": "2.7.14"
  }
 },
 "nbformat": 4,
 "nbformat_minor": 2
}
